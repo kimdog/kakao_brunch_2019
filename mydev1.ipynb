{
 "cells": [
  {
   "cell_type": "code",
   "execution_count": 1,
   "metadata": {
    "collapsed": true
   },
   "outputs": [],
   "source": [
    "import tensorflow as tf"
   ]
  },
  {
   "cell_type": "code",
   "execution_count": 2,
   "metadata": {},
   "outputs": [
    {
     "name": "stdout",
     "output_type": "stream",
     "text": [
      "300\n"
     ]
    }
   ],
   "source": [
    "a = tf.constant(100)\n",
    "b = tf.constant(200)\n",
    "\n",
    "add_op = a+b\n",
    "\n",
    "sess = tf.Session()\n",
    "\n",
    "result = sess.run(add_op)\n",
    "print(result)"
   ]
  },
  {
   "cell_type": "code",
   "execution_count": 3,
   "metadata": {},
   "outputs": [
    {
     "name": "stdout",
     "output_type": "stream",
     "text": [
      "  asd fff   \n"
     ]
    }
   ],
   "source": [
    "a = \"  asd fff   \";\n",
    "\n",
    "print(a)"
   ]
  },
  {
   "cell_type": "code",
   "execution_count": 4,
   "metadata": {},
   "outputs": [
    {
     "name": "stdout",
     "output_type": "stream",
     "text": [
      "asd fff\n"
     ]
    }
   ],
   "source": [
    "print(a.strip())"
   ]
  },
  {
   "cell_type": "code",
   "execution_count": 24,
   "metadata": {
    "collapsed": true
   },
   "outputs": [],
   "source": [
    "\n",
    "\n",
    "#newFile = open(\"./myText.txt\", 'w') # just write from new\n",
    "newFile = open(\"./myText.txt\", 'a') # add \n",
    "newFile.write('%s %s' % ('it\\'s', 'just'))\n",
    "newFile.write(\"\\n ok next line.\\n\")\n",
    "newFile.close()"
   ]
  },
  {
   "cell_type": "code",
   "execution_count": 31,
   "metadata": {},
   "outputs": [
    {
     "data": {
      "image/png": "[encoded data removed]",
      "text/plain": [
       "<Figure size 432x288 with 1 Axes>"
      ]
     },
     "metadata": {
      "needs_background": "light"
     },
     "output_type": "display_data"
    }
   ],
   "source": [
    "%matplotlib inline\n",
    "import matplotlib.pyplot as plt\n",
    "\n",
    "x = [ a for a in range(-100, 101) ]\n",
    "y = [ ( a**2 ) - 2000 for a in x ]\n",
    "\n",
    "gab,=plt.plot(x, y, 'r-')\n",
    "plt.show()"
   ]
  },
  {
   "cell_type": "code",
   "execution_count": null,
   "metadata": {
    "collapsed": true
   },
   "outputs": [],
   "source": []
  },
  {
   "cell_type": "code",
   "execution_count": null,
   "metadata": {
    "collapsed": true
   },
   "outputs": [],
   "source": [
    "import os\n",
    "import config as conf\n",
    "\n",
    "contentsSize = 7\n",
    "\n",
    "magazinePath = os.path.join(conf.data_root, 'magazine.json')\n",
    "metadataPath = os.path.join(conf.data_root, 'metadata.json')\n",
    "usersPath = os.path.join(conf.data_root, 'users.json')\n",
    "\n",
    "contentsPath = [ os.path.join(conf.data_root, 'contents/data.' + str(i) ) for i in range(0, contentsSize) ]\n",
    "\n",
    "print(magazinePath)\n",
    "print(metadataPath)\n",
    "print(usersPath)\n",
    "print(contentsPath)\n",
    "\n",
    "\n",
    "import json\n",
    "outputFolder = './tmp'"
   ]
  },
  {
   "cell_type": "code",
   "execution_count": 4,
   "metadata": {
    "collapsed": true
   },
   "outputs": [],
   "source": [
    "'''\n",
    "\n",
    "import json\n",
    "\n",
    "## json 형식 변환\n",
    "## json_data = json.JSONEncoder().encode(data)\n",
    "\n",
    "## 딕셔너리 형태로 복구\n",
    "## data = json.JSONDecoder().decode(json_data)\n",
    "\n",
    "contents = [ open(contentsPath[i], 'r') for i in range(0, contentsSize) ]\n",
    "\n",
    "\n",
    "    # each file line counts\n",
    "    100000\n",
    "    100000\n",
    "    100000\n",
    "    100000\n",
    "    100000\n",
    "    100000\n",
    "    42190\n",
    "\n",
    "\n",
    "# 단어 카운트\n",
    "# words = {}\n",
    "# 메모리 부족으로 일단 나눠서 저장\n",
    "\n",
    "outputFolder = './tmp'\n",
    "\n",
    "\n",
    "MAX_LINE = 1\n",
    "l = 0;\n",
    "\n",
    "for i in range(0, contentsSize) :\n",
    "    \n",
    "    wordsPath = os.path.join(outputFolder, 'words' + str(i) + '.txt')\n",
    "    wordsFile = open(wordsPath, 'w')\n",
    "    \n",
    "    words = {}\n",
    "    \n",
    "    for jsonLine in contents[i] :\n",
    "        # ============= for test\n",
    "        # if l >= MAX_LINE : break\n",
    "        # l = l + 1\n",
    "        # ============= for test\n",
    "        \n",
    "        # convert json to dictionary\n",
    "        line = json.JSONDecoder().decode(jsonLine)\n",
    "\n",
    "        # { \"chars\": [[]], \"morphs\": , \"id\" }\n",
    "        # print(line['id'])\n",
    "        # print(line['morphs'])\n",
    "        for morphs in line['morphs'] :\n",
    "            for morph in morphs :\n",
    "                words[morph] = words.get(morph, 0) + 1\n",
    "                \n",
    "    wordsFile.write(json.JSONEncoder().encode(words))    \n",
    "    wordsFile.close()\n",
    "    contents[i].close()\n",
    "\n",
    "'''"
   ]
  },
  {
   "cell_type": "code",
   "execution_count": 16,
   "metadata": {},
   "outputs": [
    {
     "name": "stdout",
     "output_type": "stream",
     "text": [
      "1946890\n"
     ]
    }
   ],
   "source": [
    "'''\n",
    "    저장한 words0.txt ~ words1.txt 를 순회하며\n",
    "    { 'word1' : count, 'word2' : count, ... } 를 생성 및 저장 -> wordsAll.txt\n",
    "'''\n",
    "\n",
    "\n",
    "allDic = {}\n",
    "\n",
    "for i in range(0, contentsSize) :\n",
    "    # if i != targetIdx : continue\n",
    "    \n",
    "    wordsFile = open(os.path.join(outputFolder, 'words' + str(i) + '.txt'), 'r')\n",
    "                                        \n",
    "    temp_a = json.JSONDecoder().decode(wordsFile.read())\n",
    "    if i == 0 : allDic = temp_a \n",
    "    else : \n",
    "        for k, v in temp_a.items() :\n",
    "            allDic[k] = allDic.get(k, 0) + int(v)\n",
    "    \n",
    "    wordsFile.close()\n",
    "    \n",
    "print(len(allDic))\n",
    "\n",
    "wordsFile = open(os.path.join(outputFolder, 'wordsAll.txt'), 'w')\n",
    "wordsFile.write(json.JSONEncoder().encode(allDic))\n",
    "wordsFile.close()\n",
    "    \n",
    "\n"
   ]
  },
  {
   "cell_type": "code",
   "execution_count": 2,
   "metadata": {},
   "outputs": [
    {
     "name": "stdout",
     "output_type": "stream",
     "text": [
      "[('14/SF', 24685127), ('40/JKO', 14486891), ('32/ETM', 14063634), ('9/XSV', 13597329), ('12/VCP', 12774204), ('13/EF', 11893461), ('38/JKG', 11538859), ('5/ETM', 11372307), ('30/JKB', 10506307), ('24/SP', 10293510)]\n"
     ]
    }
   ],
   "source": [
    "wordsAll = {}\n",
    "\n",
    "with open(os.path.join(outputFolder, 'wordsAll.txt'), 'r') as fall :\n",
    "    wordsAll = json.JSONDecoder().decode(fall.read())\n",
    "\n",
    "wordsAll = [ (k, v) for k, v in wordsAll.items() ]\n",
    "\n",
    "wordsAll.sort(key=lambda x:x[1], reverse=True)\n",
    "print(wordsAll[:10])\n"
   ]
  },
  {
   "cell_type": "code",
   "execution_count": 3,
   "metadata": {},
   "outputs": [
    {
     "data": {
      "image/png": "[encoded data removed]",
      "text/plain": [
       "<Figure size 432x288 with 1 Axes>"
      ]
     },
     "metadata": {
      "needs_background": "light"
     },
     "output_type": "display_data"
    }
   ],
   "source": [
    "%matplotlib inline\n",
    "import matplotlib.pyplot as plt\n",
    "\n",
    "top50w = wordsAll[:50]\n",
    "x = [ k for k, _ in top50w ]\n",
    "y = [ v for _, v in top50w ]\n",
    "\n",
    "gab,=plt.plot(x, y, 'r-')\n",
    "plt.show()"
   ]
  },
  {
   "cell_type": "code",
   "execution_count": null,
   "metadata": {
    "collapsed": true
   },
   "outputs": [],
   "source": [
    "# doc2vec\n",
    "\n",
    "from gensim.models import doc2vec\n",
    "from collections import namedtuple\n",
    "\n",
    "import json\n",
    "\n",
    "## json 형식 변환\n",
    "## json_data = json.JSONEncoder().encode(data)\n",
    "\n",
    "## 딕셔너리 형태로 복구\n",
    "## data = json.JSONDecoder().decode(json_data)\n",
    "\n",
    "contents = [ open(contentsPath[i], 'r') for i in range(0, contentsSize) ]\n",
    "\n",
    "\n",
    "    # each file line counts\n",
    "#    100000\n",
    "#    100000\n",
    "#    100000\n",
    "#    100000\n",
    "#    100000\n",
    "#    100000\n",
    "#    42190\n",
    "\n",
    "outputFolder = './tmp'\n",
    "\n",
    "\n",
    "targetIndex = 0;\n",
    "for i in range(0, contentsSize) :\n",
    "    if targetIndex != i : continue\n",
    "    \n",
    "    wordsPath = os.path.join(outputFolder, 'vec' + str(i) + '.txt')\n",
    "    wordsFile = open(wordsPath, 'w')\n",
    "    \n",
    "    tagged_train_docs = []\n",
    "    for jsonLine in contents[i] :\n",
    "        \n",
    "        # convert json to dictionary\n",
    "        line = json.JSONDecoder().decode(jsonLine)\n",
    "\n",
    "        # { \"chars\": [[]], \"morphs\": , \"id\" }\n",
    "        # print(line['id'])\n",
    "        # print(line['morphs'])\n",
    "        docId = line['id']\n",
    "        TaggedDocument = namedtuple('TaggedDocument', 'words tags')\n",
    "        \n",
    "        mList = []\n",
    "        for morphs in line['morphs'] :\n",
    "            mList.extend(morphs)\n",
    "        tagged_train_docs.append( TaggedDocument(docId, mList) )\n",
    "                \n",
    "            \n",
    "    contents[i].close()\n",
    "\n",
    "    print(tagged_train_docs.head())\n",
    "\n"
   ]
  },
  {
   "cell_type": "code",
   "execution_count": null,
   "metadata": {
    "collapsed": true
   },
   "outputs": [],
   "source": []
  }
 ],
 "metadata": {
  "kernelspec": {
   "display_name": "Python 3",
   "language": "python",
   "name": "python3"
  },
  "language_info": {
   "codemirror_mode": {
    "name": "ipython",
    "version": 3
   },
   "file_extension": ".py",
   "mimetype": "text/x-python",
   "name": "python",
   "nbconvert_exporter": "python",
   "pygments_lexer": "ipython3",
   "version": "3.6.5"
  }
 },
 "nbformat": 4,
 "nbformat_minor": 2
}
