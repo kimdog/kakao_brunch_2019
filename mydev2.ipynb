{
 "cells": [
  {
   "cell_type": "code",
   "execution_count": 2,
   "metadata": {
    "collapsed": true
   },
   "outputs": [],
   "source": [
    "from collections import Counter\n",
    "from datetime import timedelta, datetime\n",
    "import glob\n",
    "from itertools import chain\n",
    "import json\n",
    "import os\n",
    "import re"
   ]
  },
  {
   "cell_type": "code",
   "execution_count": 3,
   "metadata": {
    "collapsed": true
   },
   "outputs": [],
   "source": [
    "import matplotlib.pyplot as plt\n",
    "import numpy as np\n",
    "import pandas as pd\n",
    "from pandas.plotting import register_matplotlib_converters\n",
    "import seaborn as sns"
   ]
  },
  {
   "cell_type": "code",
   "execution_count": 5,
   "metadata": {},
   "outputs": [
    {
     "data": {
      "text/plain": [
       "'\\nimport matplotlib\\nimport matplotlib.pyplot as plt\\nimport matplotlib.font_manager as fm\\nfont_path = \\'/usr/share/fonts/NanumGothic.ttf\\'\\nfont_name = fm.FontProperties(fname=font_path, size=10).get_name()\\nplt.rc(\\'font\\', family=font_name, size=12)\\nplt.rcParams[\"figure.figsize\"] = (20, 10)\\nregister_matplotlib_converters()\\n'"
      ]
     },
     "execution_count": 5,
     "metadata": {},
     "output_type": "execute_result"
    }
   ],
   "source": [
    "'''\n",
    "import matplotlib\n",
    "import matplotlib.pyplot as plt\n",
    "import matplotlib.font_manager as fm\n",
    "font_path = '/usr/share/fonts/NanumGothic.ttf'\n",
    "font_name = fm.FontProperties(fname=font_path, size=10).get_name()\n",
    "plt.rc('font', family=font_name, size=12)\n",
    "plt.rcParams[\"figure.figsize\"] = (20, 10)\n",
    "register_matplotlib_converters()\n",
    "'''"
   ]
  },
  {
   "cell_type": "code",
   "execution_count": 4,
   "metadata": {
    "collapsed": true
   },
   "outputs": [],
   "source": [
    "directory = './res/'"
   ]
  },
  {
   "cell_type": "code",
   "execution_count": 5,
   "metadata": {
    "collapsed": true
   },
   "outputs": [],
   "source": [
    "# Magazine. json\n",
    "\n",
    "magazine = pd.read_json(directory + 'magazine.json', lines=True)"
   ]
  },
  {
   "cell_type": "code",
   "execution_count": 6,
   "metadata": {},
   "outputs": [
    {
     "data": {
      "text/plain": [
       "(27967, 2)"
      ]
     },
     "execution_count": 6,
     "metadata": {},
     "output_type": "execute_result"
    }
   ],
   "source": [
    "magazine.shape"
   ]
  },
  {
   "cell_type": "code",
   "execution_count": 6,
   "metadata": {},
   "outputs": [
    {
     "data": {
      "text/html": [
       "<div>\n",
       "<style scoped>\n",
       "    .dataframe tbody tr th:only-of-type {\n",
       "        vertical-align: middle;\n",
       "    }\n",
       "\n",
       "    .dataframe tbody tr th {\n",
       "        vertical-align: top;\n",
       "    }\n",
       "\n",
       "    .dataframe thead th {\n",
       "        text-align: right;\n",
       "    }\n",
       "</style>\n",
       "<table border=\"1\" class=\"dataframe\">\n",
       "  <thead>\n",
       "    <tr style=\"text-align: right;\">\n",
       "      <th></th>\n",
       "      <th>id</th>\n",
       "      <th>magazine_tag_list</th>\n",
       "    </tr>\n",
       "  </thead>\n",
       "  <tbody>\n",
       "    <tr>\n",
       "      <th>0</th>\n",
       "      <td>38842</td>\n",
       "      <td>[브런치북, 육아일기, 대화법, 들려주고픈이야기]</td>\n",
       "    </tr>\n",
       "    <tr>\n",
       "      <th>1</th>\n",
       "      <td>11540</td>\n",
       "      <td>[tea, food]</td>\n",
       "    </tr>\n",
       "    <tr>\n",
       "      <th>2</th>\n",
       "      <td>11541</td>\n",
       "      <td>[food]</td>\n",
       "    </tr>\n",
       "    <tr>\n",
       "      <th>3</th>\n",
       "      <td>11546</td>\n",
       "      <td>[브런치북, 일상, 시, 사람]</td>\n",
       "    </tr>\n",
       "    <tr>\n",
       "      <th>4</th>\n",
       "      <td>11544</td>\n",
       "      <td>[감성에세이, 노래, 음악에세이]</td>\n",
       "    </tr>\n",
       "  </tbody>\n",
       "</table>\n",
       "</div>"
      ],
      "text/plain": [
       "      id            magazine_tag_list\n",
       "0  38842  [브런치북, 육아일기, 대화법, 들려주고픈이야기]\n",
       "1  11540                  [tea, food]\n",
       "2  11541                       [food]\n",
       "3  11546            [브런치북, 일상, 시, 사람]\n",
       "4  11544           [감성에세이, 노래, 음악에세이]"
      ]
     },
     "execution_count": 6,
     "metadata": {},
     "output_type": "execute_result"
    }
   ],
   "source": [
    "magazine.head()"
   ]
  },
  {
   "cell_type": "code",
   "execution_count": 7,
   "metadata": {},
   "outputs": [
    {
     "name": "stdout",
     "output_type": "stream",
     "text": [
      "<class 'pandas.core.frame.DataFrame'>\n"
     ]
    }
   ],
   "source": [
    "print(type(magazine))"
   ]
  },
  {
   "cell_type": "code",
   "execution_count": 8,
   "metadata": {
    "collapsed": true
   },
   "outputs": [],
   "source": [
    "# Metadata.json\n",
    "\n",
    "metadata = pd.read_json(directory + 'metadata.json', lines=True)"
   ]
  },
  {
   "cell_type": "code",
   "execution_count": 9,
   "metadata": {},
   "outputs": [
    {
     "data": {
      "text/plain": [
       "(643104, 9)"
      ]
     },
     "execution_count": 9,
     "metadata": {},
     "output_type": "execute_result"
    }
   ],
   "source": [
    "metadata.shape"
   ]
  },
  {
   "cell_type": "code",
   "execution_count": 10,
   "metadata": {},
   "outputs": [
    {
     "data": {
      "text/html": [
       "<div>\n",
       "<style scoped>\n",
       "    .dataframe tbody tr th:only-of-type {\n",
       "        vertical-align: middle;\n",
       "    }\n",
       "\n",
       "    .dataframe tbody tr th {\n",
       "        vertical-align: top;\n",
       "    }\n",
       "\n",
       "    .dataframe thead th {\n",
       "        text-align: right;\n",
       "    }\n",
       "</style>\n",
       "<table border=\"1\" class=\"dataframe\">\n",
       "  <thead>\n",
       "    <tr style=\"text-align: right;\">\n",
       "      <th></th>\n",
       "      <th>article_id</th>\n",
       "      <th>display_url</th>\n",
       "      <th>id</th>\n",
       "      <th>keyword_list</th>\n",
       "      <th>magazine_id</th>\n",
       "      <th>reg_ts</th>\n",
       "      <th>sub_title</th>\n",
       "      <th>title</th>\n",
       "      <th>user_id</th>\n",
       "    </tr>\n",
       "  </thead>\n",
       "  <tbody>\n",
       "    <tr>\n",
       "      <th>0</th>\n",
       "      <td>782</td>\n",
       "      <td>https://brunch.co.kr/@bookdb/782</td>\n",
       "      <td>@bookdb_782</td>\n",
       "      <td>[여행, 호주, 국립공원]</td>\n",
       "      <td>8982</td>\n",
       "      <td>1474944427000</td>\n",
       "      <td>세상 어디에도 없는 호주 Top 10</td>\n",
       "      <td>사진으로 옮기기에도 아까운, 리치필드 국립공원</td>\n",
       "      <td>@bookdb</td>\n",
       "    </tr>\n",
       "    <tr>\n",
       "      <th>1</th>\n",
       "      <td>81</td>\n",
       "      <td>https://brunch.co.kr/@kohwang56/81</td>\n",
       "      <td>@kohwang56_81</td>\n",
       "      <td>[목련꽃, 아지랑이, 동행]</td>\n",
       "      <td>12081</td>\n",
       "      <td>1463092749000</td>\n",
       "      <td></td>\n",
       "      <td>[시] 서러운 봄</td>\n",
       "      <td>@kohwang56</td>\n",
       "    </tr>\n",
       "    <tr>\n",
       "      <th>2</th>\n",
       "      <td>4</td>\n",
       "      <td>https://brunch.co.kr/@hannahajink/4</td>\n",
       "      <td>@hannahajink_4</td>\n",
       "      <td>[]</td>\n",
       "      <td>0</td>\n",
       "      <td>1447997287000</td>\n",
       "      <td>무엇 때문에</td>\n",
       "      <td>무엇을 위해</td>\n",
       "      <td>@hannahajink</td>\n",
       "    </tr>\n",
       "    <tr>\n",
       "      <th>3</th>\n",
       "      <td>88</td>\n",
       "      <td>https://brunch.co.kr/@bryceandjuli/88</td>\n",
       "      <td>@bryceandjuli_88</td>\n",
       "      <td>[감정, 마음, 위로]</td>\n",
       "      <td>16315</td>\n",
       "      <td>1491055161000</td>\n",
       "      <td></td>\n",
       "      <td>싫다</td>\n",
       "      <td>@bryceandjuli</td>\n",
       "    </tr>\n",
       "    <tr>\n",
       "      <th>4</th>\n",
       "      <td>34</td>\n",
       "      <td>https://brunch.co.kr/@mijeongpark/34</td>\n",
       "      <td>@mijeongpark_34</td>\n",
       "      <td>[유럽여행, 더블린, 아일랜드]</td>\n",
       "      <td>29363</td>\n",
       "      <td>1523292942000</td>\n",
       "      <td>#7. 내 친구의 집은 어디인가</td>\n",
       "      <td>Dubliner#7</td>\n",
       "      <td>@mijeongpark</td>\n",
       "    </tr>\n",
       "  </tbody>\n",
       "</table>\n",
       "</div>"
      ],
      "text/plain": [
       "   article_id                            display_url                id  \\\n",
       "0         782       https://brunch.co.kr/@bookdb/782       @bookdb_782   \n",
       "1          81     https://brunch.co.kr/@kohwang56/81     @kohwang56_81   \n",
       "2           4    https://brunch.co.kr/@hannahajink/4    @hannahajink_4   \n",
       "3          88  https://brunch.co.kr/@bryceandjuli/88  @bryceandjuli_88   \n",
       "4          34   https://brunch.co.kr/@mijeongpark/34   @mijeongpark_34   \n",
       "\n",
       "        keyword_list  magazine_id         reg_ts             sub_title  \\\n",
       "0     [여행, 호주, 국립공원]         8982  1474944427000  세상 어디에도 없는 호주 Top 10   \n",
       "1    [목련꽃, 아지랑이, 동행]        12081  1463092749000                         \n",
       "2                 []            0  1447997287000                무엇 때문에   \n",
       "3       [감정, 마음, 위로]        16315  1491055161000                         \n",
       "4  [유럽여행, 더블린, 아일랜드]        29363  1523292942000     #7. 내 친구의 집은 어디인가   \n",
       "\n",
       "                       title        user_id  \n",
       "0  사진으로 옮기기에도 아까운, 리치필드 국립공원        @bookdb  \n",
       "1                  [시] 서러운 봄     @kohwang56  \n",
       "2                     무엇을 위해   @hannahajink  \n",
       "3                         싫다  @bryceandjuli  \n",
       "4                 Dubliner#7   @mijeongpark  "
      ]
     },
     "execution_count": 10,
     "metadata": {},
     "output_type": "execute_result"
    }
   ],
   "source": [
    "metadata.head()"
   ]
  },
  {
   "cell_type": "code",
   "execution_count": 11,
   "metadata": {
    "collapsed": true
   },
   "outputs": [],
   "source": [
    "# users.json\n",
    "\n",
    "users = pd.read_json(directory + 'users.json', lines=True)"
   ]
  },
  {
   "cell_type": "code",
   "execution_count": 12,
   "metadata": {},
   "outputs": [
    {
     "data": {
      "text/plain": [
       "(310758, 3)"
      ]
     },
     "execution_count": 12,
     "metadata": {},
     "output_type": "execute_result"
    }
   ],
   "source": [
    "users.shape"
   ]
  },
  {
   "cell_type": "code",
   "execution_count": 13,
   "metadata": {},
   "outputs": [
    {
     "data": {
      "text/html": [
       "<div>\n",
       "<style scoped>\n",
       "    .dataframe tbody tr th:only-of-type {\n",
       "        vertical-align: middle;\n",
       "    }\n",
       "\n",
       "    .dataframe tbody tr th {\n",
       "        vertical-align: top;\n",
       "    }\n",
       "\n",
       "    .dataframe thead th {\n",
       "        text-align: right;\n",
       "    }\n",
       "</style>\n",
       "<table border=\"1\" class=\"dataframe\">\n",
       "  <thead>\n",
       "    <tr style=\"text-align: right;\">\n",
       "      <th></th>\n",
       "      <th>following_list</th>\n",
       "      <th>id</th>\n",
       "      <th>keyword_list</th>\n",
       "    </tr>\n",
       "  </thead>\n",
       "  <tbody>\n",
       "    <tr>\n",
       "      <th>0</th>\n",
       "      <td>[@perytail, @brunch]</td>\n",
       "      <td>#901985d8bc4c481805c4a4f911814c4a</td>\n",
       "      <td>[]</td>\n",
       "    </tr>\n",
       "    <tr>\n",
       "      <th>1</th>\n",
       "      <td>[@holidaymemories, @wadiz, @sciforus, @dailydu...</td>\n",
       "      <td>#1fd89e9dcfa64b45020d9eaca54e0eed</td>\n",
       "      <td>[]</td>\n",
       "    </tr>\n",
       "    <tr>\n",
       "      <th>2</th>\n",
       "      <td>[@commerceguy, @sunsutu, @kakao-it, @joohoonja...</td>\n",
       "      <td>#1d94baaea71a831e1f33e1c6bd126ed5</td>\n",
       "      <td>[]</td>\n",
       "    </tr>\n",
       "    <tr>\n",
       "      <th>3</th>\n",
       "      <td>[@amberjeon48, @forsy20, @nemotokki, @hawann, ...</td>\n",
       "      <td>#04641c01892b12dc018b1410e4928c0d</td>\n",
       "      <td>[]</td>\n",
       "    </tr>\n",
       "    <tr>\n",
       "      <th>4</th>\n",
       "      <td>[@dwcha7342, @iammento, @kakao-it, @dkam, @ant...</td>\n",
       "      <td>#65bcaff862aadff877e461f54187ab62</td>\n",
       "      <td>[]</td>\n",
       "    </tr>\n",
       "  </tbody>\n",
       "</table>\n",
       "</div>"
      ],
      "text/plain": [
       "                                      following_list  \\\n",
       "0                               [@perytail, @brunch]   \n",
       "1  [@holidaymemories, @wadiz, @sciforus, @dailydu...   \n",
       "2  [@commerceguy, @sunsutu, @kakao-it, @joohoonja...   \n",
       "3  [@amberjeon48, @forsy20, @nemotokki, @hawann, ...   \n",
       "4  [@dwcha7342, @iammento, @kakao-it, @dkam, @ant...   \n",
       "\n",
       "                                  id keyword_list  \n",
       "0  #901985d8bc4c481805c4a4f911814c4a           []  \n",
       "1  #1fd89e9dcfa64b45020d9eaca54e0eed           []  \n",
       "2  #1d94baaea71a831e1f33e1c6bd126ed5           []  \n",
       "3  #04641c01892b12dc018b1410e4928c0d           []  \n",
       "4  #65bcaff862aadff877e461f54187ab62           []  "
      ]
     },
     "execution_count": 13,
     "metadata": {},
     "output_type": "execute_result"
    }
   ],
   "source": [
    "users.head()"
   ]
  },
  {
   "cell_type": "code",
   "execution_count": 7,
   "metadata": {
    "collapsed": true
   },
   "outputs": [],
   "source": [
    "# Read Files\n",
    "\n",
    "read_file_list = glob.glob(directory + 'read/*')\n",
    "exclude_file_lst = ['read.tar']\n",
    "\n",
    "read_df_lst = []\n",
    "for f in read_file_list :\n",
    "    file_name = os.path.basename(f)\n",
    "    if file_name in exclude_file_lst :\n",
    "        print(file_name)\n",
    "    else :\n",
    "        df_temp = pd.read_csv(f, header=None, names=['raw'])\n",
    "        df_temp['dt'] = file_name[:8]\n",
    "        df_temp['hr'] = file_name[8:10]\n",
    "        df_temp['user_id'] = df_temp['raw'].str.split(' ').str[0]\n",
    "        df_temp['article_id'] = df_temp['raw'].str.split(' ').str[1:].str.join(' ').str.strip()\n",
    "        read_df_lst.append(df_temp)"
   ]
  },
  {
   "cell_type": "code",
   "execution_count": 8,
   "metadata": {
    "collapsed": true
   },
   "outputs": [],
   "source": [
    "read = pd.concat(read_df_lst)"
   ]
  },
  {
   "cell_type": "code",
   "execution_count": 9,
   "metadata": {},
   "outputs": [
    {
     "data": {
      "text/plain": [
       "(3507097, 5)"
      ]
     },
     "execution_count": 9,
     "metadata": {},
     "output_type": "execute_result"
    }
   ],
   "source": [
    "read.shape"
   ]
  },
  {
   "cell_type": "code",
   "execution_count": 10,
   "metadata": {},
   "outputs": [
    {
     "data": {
      "text/html": [
       "<div>\n",
       "<style scoped>\n",
       "    .dataframe tbody tr th:only-of-type {\n",
       "        vertical-align: middle;\n",
       "    }\n",
       "\n",
       "    .dataframe tbody tr th {\n",
       "        vertical-align: top;\n",
       "    }\n",
       "\n",
       "    .dataframe thead th {\n",
       "        text-align: right;\n",
       "    }\n",
       "</style>\n",
       "<table border=\"1\" class=\"dataframe\">\n",
       "  <thead>\n",
       "    <tr style=\"text-align: right;\">\n",
       "      <th></th>\n",
       "      <th>raw</th>\n",
       "      <th>dt</th>\n",
       "      <th>hr</th>\n",
       "      <th>user_id</th>\n",
       "      <th>article_id</th>\n",
       "    </tr>\n",
       "  </thead>\n",
       "  <tbody>\n",
       "    <tr>\n",
       "      <th>0</th>\n",
       "      <td>#1f756fba1b5058dcedc2d70e630de726 @jidesign_55...</td>\n",
       "      <td>20181120</td>\n",
       "      <td>14</td>\n",
       "      <td>#1f756fba1b5058dcedc2d70e630de726</td>\n",
       "      <td>@jidesign_55 @jidesign_57 @jidesign_25</td>\n",
       "    </tr>\n",
       "    <tr>\n",
       "      <th>1</th>\n",
       "      <td>#0e04a43eb63b9988a5a5c3a6c5a0ff79 @peregrino97...</td>\n",
       "      <td>20181120</td>\n",
       "      <td>14</td>\n",
       "      <td>#0e04a43eb63b9988a5a5c3a6c5a0ff79</td>\n",
       "      <td>@peregrino97_779 @noey_130</td>\n",
       "    </tr>\n",
       "    <tr>\n",
       "      <th>2</th>\n",
       "      <td>#c3c266cbe2a759423114f2f250ccc02c @jangsypd_95...</td>\n",
       "      <td>20181120</td>\n",
       "      <td>14</td>\n",
       "      <td>#c3c266cbe2a759423114f2f250ccc02c</td>\n",
       "      <td>@jangsypd_95 @jangsypd_95</td>\n",
       "    </tr>\n",
       "    <tr>\n",
       "      <th>3</th>\n",
       "      <td>#6a79073d959f42de59709c772729bf15 @jordan777_2...</td>\n",
       "      <td>20181120</td>\n",
       "      <td>14</td>\n",
       "      <td>#6a79073d959f42de59709c772729bf15</td>\n",
       "      <td>@jordan777_2417 @jordan777_2417 @jordan777_241...</td>\n",
       "    </tr>\n",
       "    <tr>\n",
       "      <th>4</th>\n",
       "      <td>#725721587e7b6934b1917fe722f69914 @begini_440 ...</td>\n",
       "      <td>20181120</td>\n",
       "      <td>14</td>\n",
       "      <td>#725721587e7b6934b1917fe722f69914</td>\n",
       "      <td>@begini_440 @begini_441</td>\n",
       "    </tr>\n",
       "  </tbody>\n",
       "</table>\n",
       "</div>"
      ],
      "text/plain": [
       "                                                 raw        dt  hr  \\\n",
       "0  #1f756fba1b5058dcedc2d70e630de726 @jidesign_55...  20181120  14   \n",
       "1  #0e04a43eb63b9988a5a5c3a6c5a0ff79 @peregrino97...  20181120  14   \n",
       "2  #c3c266cbe2a759423114f2f250ccc02c @jangsypd_95...  20181120  14   \n",
       "3  #6a79073d959f42de59709c772729bf15 @jordan777_2...  20181120  14   \n",
       "4  #725721587e7b6934b1917fe722f69914 @begini_440 ...  20181120  14   \n",
       "\n",
       "                             user_id  \\\n",
       "0  #1f756fba1b5058dcedc2d70e630de726   \n",
       "1  #0e04a43eb63b9988a5a5c3a6c5a0ff79   \n",
       "2  #c3c266cbe2a759423114f2f250ccc02c   \n",
       "3  #6a79073d959f42de59709c772729bf15   \n",
       "4  #725721587e7b6934b1917fe722f69914   \n",
       "\n",
       "                                          article_id  \n",
       "0             @jidesign_55 @jidesign_57 @jidesign_25  \n",
       "1                         @peregrino97_779 @noey_130  \n",
       "2                          @jangsypd_95 @jangsypd_95  \n",
       "3  @jordan777_2417 @jordan777_2417 @jordan777_241...  \n",
       "4                            @begini_440 @begini_441  "
      ]
     },
     "execution_count": 10,
     "metadata": {},
     "output_type": "execute_result"
    }
   ],
   "source": [
    "read.head()"
   ]
  },
  {
   "cell_type": "code",
   "execution_count": 11,
   "metadata": {
    "collapsed": true
   },
   "outputs": [],
   "source": [
    "# 탐색하기 좋은 데이터 포맷으로 변경\n",
    "def chainer(s) :\n",
    "    return list(chain.from_iterable(s.str.split(' ')))"
   ]
  },
  {
   "cell_type": "code",
   "execution_count": 13,
   "metadata": {},
   "outputs": [],
   "source": [
    "read_cnt_by_user = read['article_id'].str.split(' ').map(len)\n",
    "\n"
   ]
  },
  {
   "cell_type": "code",
   "execution_count": 15,
   "metadata": {},
   "outputs": [
    {
     "data": {
      "text/plain": [
       "(3507097,)"
      ]
     },
     "execution_count": 15,
     "metadata": {},
     "output_type": "execute_result"
    }
   ],
   "source": [
    "read_cnt_by_user.head()\n",
    "read_cnt_by_user.shape"
   ]
  },
  {
   "cell_type": "code",
   "execution_count": null,
   "metadata": {
    "collapsed": true
   },
   "outputs": [],
   "source": [
    "read_raw = pd.DataFrame({'dt': np.repeat(read['dt'], read_cnt_by_user),\n",
    "                         'hr': np.repeat(read['hr'], read_cnt_by_user),\n",
    "                         'user_id': np.repeat(read['user_id'], read_cnt_by_user),\n",
    "                         'article_id': chainer(read['article_id'])\n",
    "                        })"
   ]
  },
  {
   "cell_type": "code",
   "execution_count": null,
   "metadata": {
    "collapsed": true
   },
   "outputs": [],
   "source": [
    "read_raw.shape"
   ]
  },
  {
   "cell_type": "code",
   "execution_count": null,
   "metadata": {
    "collapsed": true
   },
   "outputs": [],
   "source": [
    "read_raw.head()"
   ]
  }
 ],
 "metadata": {
  "kernelspec": {
   "display_name": "Python 3",
   "language": "python",
   "name": "python3"
  },
  "language_info": {
   "codemirror_mode": {
    "name": "ipython",
    "version": 3
   },
   "file_extension": ".py",
   "mimetype": "text/x-python",
   "name": "python",
   "nbconvert_exporter": "python",
   "pygments_lexer": "ipython3",
   "version": "3.6.5"
  }
 },
 "nbformat": 4,
 "nbformat_minor": 2
}
